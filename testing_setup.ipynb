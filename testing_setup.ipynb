{
  "nbformat": 4,
  "nbformat_minor": 0,
  "metadata": {
    "colab": {
      "provenance": [],
      "mount_file_id": "1tt9a3p7726qD7uz-kKN1wuLZjrwVEIHy",
      "authorship_tag": "ABX9TyNnLrBQRM3oyZewLrB0gJCi",
      "include_colab_link": true
    },
    "kernelspec": {
      "name": "python3",
      "display_name": "Python 3"
    },
    "language_info": {
      "name": "python"
    },
    "gpuClass": "standard"
  },
  "cells": [
    {
      "cell_type": "markdown",
      "metadata": {
        "id": "view-in-github",
        "colab_type": "text"
      },
      "source": [
        "<a href=\"https://colab.research.google.com/github/John-D-Boom/CompVision/blob/main/testing_setup.ipynb\" target=\"_parent\"><img src=\"https://colab.research.google.com/assets/colab-badge.svg\" alt=\"Open In Colab\"/></a>"
      ]
    },
    {
      "cell_type": "markdown",
      "source": [
        "This notebook checks that I can load the dataset, load torch, syncing with GitHub, etc.\n"
      ],
      "metadata": {
        "id": "rIS_WB6uNXtk"
      }
    },
    {
      "cell_type": "code",
      "execution_count": 3,
      "metadata": {
        "id": "Mf6E8_aejHc0"
      },
      "outputs": [],
      "source": [
        "import torch\n",
        "import numpy\n",
        "import matplotlib.pyplot as plt\n",
        "from google.colab import drive\n",
        "import pandas as pd\n",
        "import os\n",
        "\n"
      ]
    },
    {
      "cell_type": "code",
      "source": [
        "import zipfile\n",
        "with zipfile.ZipFile('/content/drive/MyDrive/MLMI/CompVision/tiny-imagenet-200.zip', 'r') as zip_ref:\n",
        "    zip_ref.extractall('/content/drive/MyDrive/MLMI/CompVision/')"
      ],
      "metadata": {
        "id": "aMXojVcG2i5g"
      },
      "execution_count": 1,
      "outputs": []
    },
    {
      "cell_type": "code",
      "source": [
        "df = pd.read_csv('/content/drive/MyDrive/MLMI/CompVision/heatmap.csv')"
      ],
      "metadata": {
        "id": "a0VihMZ1O2Fb"
      },
      "execution_count": 5,
      "outputs": []
    },
    {
      "cell_type": "code",
      "source": [
        "# importing the \"tarfile\" module\n",
        "import tarfile\n",
        "\n",
        "# open file\n",
        "file = tarfile.open('/content/drive/MyDrive/MLMI/CompVision/tiny-imagenet-200-copy.tar.gz')\n",
        "\n",
        "# extracting file\n",
        "file.extractall('/content/drive/MyDrive/MLMI/CompVision')\n",
        "\n",
        "file.close()\n"
      ],
      "metadata": {
        "id": "mz82hSYNnktT"
      },
      "execution_count": null,
      "outputs": []
    },
    {
      "cell_type": "code",
      "source": [
        "def checkFolderSetup(root_dir, expected_num):\n",
        "    for root, dirs, files in os.walk(root_dir):\n",
        "      # For each subfolder in the root directory\n",
        "        for d in dirs:\n",
        "          # Get the full path to the subfolder\n",
        "            subfolder_path = os.path.join(root, d)\n",
        "          # Count the number of entries in the subfolder\n",
        "            num_entries = len(os.listdir(subfolder_path))\n",
        "          # Check if the number of entries in the subfolder is equal to n\n",
        "            try:\n",
        "                assert num_entries == expected_num \n",
        "            except:\n",
        "                print(f'{root_dir} has error in directory {d}')\n",
        "    print(f'Each folder in {root_dir} contains {expected_num} files')\n",
        "\n"
      ],
      "metadata": {
        "id": "WpPOjP212ia3"
      },
      "execution_count": 13,
      "outputs": []
    },
    {
      "cell_type": "code",
      "source": [
        "test_dir = '/content/drive/MyDrive/MLMI/CompVision/tiny-imagenet-200/test'\n",
        "val_dir =  '/content/drive/MyDrive/MLMI/CompVision/tiny-imagenet-200/val'\n",
        "train_dir =  '/content/drive/MyDrive/MLMI/CompVision/tiny-imagenet-200/train'\n",
        "checkFolderSetup(test_dir, 25)\n",
        "checkFolderSetup(val_dir, 25)\n",
        "checkFolderSetup(train_dir, 500)"
      ],
      "metadata": {
        "colab": {
          "base_uri": "https://localhost:8080/"
        },
        "id": "Zfli1oT14Hnh",
        "outputId": "10c57bf3-2e01-4616-8b6e-1a3720d86a09"
      },
      "execution_count": 14,
      "outputs": [
        {
          "output_type": "stream",
          "name": "stdout",
          "text": [
            "Each folder in /content/drive/MyDrive/MLMI/CompVision/tiny-imagenet-200/test contains 25 files\n",
            "Each folder in /content/drive/MyDrive/MLMI/CompVision/tiny-imagenet-200/val contains 25 files\n",
            "Each folder in /content/drive/MyDrive/MLMI/CompVision/tiny-imagenet-200/train contains 500 files\n"
          ]
        }
      ]
    }
  ]
}